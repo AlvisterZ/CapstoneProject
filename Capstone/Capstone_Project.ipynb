{
 "cells": [
  {
   "cell_type": "code",
   "execution_count": 1,
   "metadata": {},
   "outputs": [],
   "source": [
    "from pyspark.sql import SparkSession\n",
    "import requests\n",
    "import matplotlib.pyplot as plt\n",
    "import pandas as pd\n",
    "from pyspark.sql.functions import substring\n",
    "import seaborn as sns"
   ]
  },
  {
   "cell_type": "code",
   "execution_count": 3,
   "metadata": {},
   "outputs": [],
   "source": [
    "spark = SparkSession.builder.getOrCreate()\n",
    "\n",
    "branch_rdd = spark.read.json(\"CDW_SAPP_BRANCH.JSON\").rdd\n",
    "credit_rdd = spark.read.json(\"CDW_SAPP_CREDIT.JSON\").rdd\n",
    "customer_rdd = spark.read.json(\"CDW_SAPP_CUSTMER.JSON\").rdd"
   ]
  },
  {
   "cell_type": "code",
   "execution_count": null,
   "metadata": {},
   "outputs": [],
   "source": [
    "branch_transformed_rdd = branch_rdd.map(lambda row: (\n",
    "    int(row[\"BRANCH_CODE\"]),\n",
    "    str(row[\"BRANCH_NAME\"]),\n",
    "    str(row[\"BRANCH_STREET\"]),\n",
    "    str(row[\"BRANCH_CITY\"]),\n",
    "    str(row[\"BRANCH_STATE\"]),\n",
    "    int(row[\"BRANCH_ZIP\"]) if row[\"BRANCH_ZIP\"] is not None else 99999,\n",
    "    \"(\" + row[\"BRANCH_PHONE\"][:3] + \")\" + row[\"BRANCH_PHONE\"][3:6] + \"-\" + row[\"BRANCH_PHONE\"][6:],\n",
    "))      \n",
    "\n",
    "branch_transformed_df = branch_transformed_rdd.toDF([\"BRANCH_CODE\", \"BRANCH_NAME\", \"BRANCH_STREET\", \"BRANCH_CITY\", \"BRANCH_STATE\", \"BRANCH_ZIP\", \"BRANCH_PHONE\"])\n",
    "\n",
    "branch_transformed_df.show()"
   ]
  },
  {
   "cell_type": "code",
   "execution_count": null,
   "metadata": {},
   "outputs": [],
   "source": [
    "credit_transformed_rdd = credit_rdd.map(lambda row: (\n",
    "    str(row[\"CREDIT_CARD_NO\"]),\n",
    "    str(row[\"YEAR\"]) + str(row[\"MONTH\"]).zfill(2) + str(row[\"DAY\"]).zfill(2),\n",
    "    int(row[\"CUST_SSN\"]),\n",
    "    int(row[\"BRANCH_CODE\"]),\n",
    "    str(row[\"TRANSACTION_TYPE\"]),\n",
    "    float(row[\"TRANSACTION_VALUE\"]),\n",
    "    int(row[\"TRANSACTION_ID\"])\n",
    "))\n",
    "\n",
    "credit_transformed_df = credit_transformed_rdd.toDF([\"CREDIT_CARD_NO\", \"TIMEID\", \"CUST_SSN\", \"BRANCH_CODE\", \"TRANSACTION_TYPE\", \"TRANSACTION_VALUE\", \"TRANSACTION_ID\"])\n",
    "\n",
    "credit_transformed_df.show()"
   ]
  },
  {
   "cell_type": "code",
   "execution_count": null,
   "metadata": {},
   "outputs": [],
   "source": [
    "customer_transformed_rdd = customer_rdd.map(lambda row: (\n",
    "    int(row[\"SSN\"]),\n",
    "    str(row[\"FIRST_NAME\"]).title(),\n",
    "    str(row[\"MIDDLE_NAME\"]).lower(),\n",
    "    str(row[\"LAST_NAME\"]).title(),\n",
    "    str(row[\"CREDIT_CARD_NO\"]),\n",
    "    str(row[\"STREET_NAME\"]) + \", \" + str(row[\"APT_NO\"]),\n",
    "    str(row[\"CUST_CITY\"]),\n",
    "    str(row[\"CUST_STATE\"]),\n",
    "    str(row[\"CUST_COUNTRY\"]),\n",
    "    int(row[\"CUST_ZIP\"]),\n",
    "    \"(\" + str(row[\"CUST_PHONE\"])[:3] + \")\" + str(row[\"CUST_PHONE\"])[3:6] + \"-\" + str(row[\"CUST_PHONE\"])[6:] + \"XXX\",\n",
    "    str(row[\"CUST_EMAIL\"]),\n",
    "    row[\"LAST_UPDATED\"]\n",
    "))\n",
    "\n",
    "customer_transformed_df = customer_transformed_rdd.toDF([\"SSN\", \"FIRST_NAME\", \"MIDDLE_NAME\", \"LAST_NAME\", \"CREDIT_CARD_NO\",\"FULL_STREET_ADDRESS\", \"CUST_CITY\", \"CUST_STATE\", \"CUST_COUNTRY\",\"CUST_ZIP\", \"CUST_PHONE\", \"CUST_EMAIL\", \"LAST_UPDATED\"])\n",
    "\n",
    "customer_transformed_df.show()"
   ]
  }
 ],
 "metadata": {
  "kernelspec": {
   "display_name": "Python 3",
   "language": "python",
   "name": "python3"
  },
  "language_info": {
   "codemirror_mode": {
    "name": "ipython",
    "version": 3
   },
   "file_extension": ".py",
   "mimetype": "text/x-python",
   "name": "python",
   "nbconvert_exporter": "python",
   "pygments_lexer": "ipython3",
   "version": "3.10.11"
  },
  "orig_nbformat": 4
 },
 "nbformat": 4,
 "nbformat_minor": 2
}
